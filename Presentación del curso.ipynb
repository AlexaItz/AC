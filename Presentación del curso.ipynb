{
 "cells": [
  {
   "cell_type": "markdown",
   "id": "4fcdedd5",
   "metadata": {},
   "source": [
    "# Algoritmos computacionales\n",
    "\n",
    "## Objetivo del curso\n",
    "\n",
    "Resolver problemas específicos mediante el diseño y la implementación de programas computacionales.\n",
    "\n",
    "## Dinámica del curso\n",
    "\n",
    "Telegram, Github."
   ]
  },
  {
   "cell_type": "markdown",
   "id": "024edd52",
   "metadata": {},
   "source": [
    "## Temario del curso\n",
    "\n",
    "El siguiente temario está basado en el [temario oficial del curso](https://www.fciencias.unam.mx/estudiar-en-ciencias/estudios/licenciaturas/asignaturas/2016/1430). Al elaborarlo, asumimos que l@s estudiantes del curso **no** tienen experiencia previa con programación, pero **sí** tienen bases teóricas sólidas de álgebra lineal y cálculo diferencial e integral de una variable, así como nociones básicas de ecuaciones diferenciales ordinarias, pues esto último se requerirá en el segundo módulo del curso.\n",
    "\n",
    "### Módulo 0 - Introducción a la programación (2 semanas)\n",
    "\n",
    "1. ¿Qué es un programa? (Paradigma imperativo de la programación)\n",
    "1. ¿Cómo se ejecuta un programa? (Lenguaje de programación, sintáxis, código fuente, compilador y mensajes de error)\n",
    "1. ¿Qué tipo de programas existen? (Software privativo, software de código abierto y software libre)\n",
    "1. ¿Cómo creo un programa? (Editor de texto, terminal virtual, REPL e IDEs)\n",
    "1. ¿Cómo aprendo a programar? (Manuales, buscador de internet y foros)\n",
    "1. ¿Qué herramientas me ayudan a programar? ([Julia](https://julialang.org/), [Jupyter](https://jupyter.org/), [Git](https://git-scm.com/) y [Github](https://github.com/))\n",
    "\n",
    "### Módulo 1 - Estructura básica de la programación (3 semanas)\n",
    "\n",
    "1. Algoritmos y diagramas de flujo.\n",
    "1. Conceptos fundamentales. (Tipos de datos, operaciones lógicas y aritméticas, arreglos, variables y constantes, funciones, manejo de memoria, recursividad)\n",
    "1. Estructura lógica. (Ciclos y condicionales)\n",
    "1. Sistemas numéricos de punto flotante y error numérico.\n",
    "1. Estructura de la programación modular. (Paqueterías)\n",
    "\n",
    "### Módulo 2 - Construcción de pseudocódigo para cómputo científico e implementación (6 semanas)\n",
    "\n",
    "1. Solución de problemas matriciales.\n",
    "1. Solución de ecuaciones diferenciales ordinarias. (Métodos de Newton y de Runge-Kutta)\n",
    "1. Transformada rápida de Fourier.\n",
    "1. Caminante aleatorio.\n",
    "\n",
    "### Módulo 3 - Programación y visualización de datos (4 semanas)\n",
    "\n",
    "1. Visualización de datos con [Plots](https://docs.juliaplots.org/latest/).\n",
    "1. Visualización de sistemas de ecuaciones diferenciales.\n",
    "1. Manipulación de imágenes digitales con [JuliaImages](https://juliaimages.org/latest/).\n",
    "\n",
    "### Módulo 4 - Introducción a otros lenguajes de programación (1 semana)\n",
    "\n",
    "1. GNU Octave.\n",
    "1. R."
   ]
  },
  {
   "cell_type": "markdown",
   "id": "128d0e06",
   "metadata": {},
   "source": [
    "## Criterios de evaluación\n",
    "\n",
    "* Tareas (notebooks) - 33.333%\n",
    "* Proyectos intermedios - 33.333%\n",
    "* Proyecto final de aplicación - 33.333%\n",
    "* [Exercism](https://exercism.org/tracks/julia) y [Julia Academy](https://juliaacademy.com/courses?preview=logged_out) - 15% extra\n",
    "\n",
    "## Bibliografía recomendada para el curso\n",
    "\n",
    "1. Cairó - Metodología de la programación: Algoritmos, diagramas de flujo y programas (2003).\n",
    "1. Cormen, Leiserson, Rivest, Stein - Introduction to Algorithms (2009).\n",
    "1. [Documentación de Julia](https://docs.julialang.org/en/v1/)."
   ]
  },
  {
   "cell_type": "markdown",
   "id": "a7fd4e2b",
   "metadata": {},
   "source": []
  }
 ],
 "metadata": {
  "kernelspec": {
   "display_name": "Julia 1.7.0",
   "language": "julia",
   "name": "julia-1.7"
  },
  "language_info": {
   "file_extension": ".jl",
   "mimetype": "application/julia",
   "name": "julia",
   "version": "1.7.0"
  }
 },
 "nbformat": 4,
 "nbformat_minor": 5
}
