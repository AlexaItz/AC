{
 "cells": [
  {
   "cell_type": "markdown",
   "id": "4fcdedd5",
   "metadata": {},
   "source": [
    "# Algoritmos computacionales\n",
    "\n",
    "## Objetivo del curso\n",
    "\n",
    "Resolver problemas específico mediante el diseño y la implementación de programas computacionales.\n",
    "\n",
    "## Dinámica del curso\n",
    "\n",
    "Telegram, Github."
   ]
  },
  {
   "cell_type": "markdown",
   "id": "024edd52",
   "metadata": {},
   "source": [
    "## Temario del curso\n",
    "\n",
    "El siguiente temario está basado en el [temario oficial del curso](https://www.fciencias.unam.mx/estudiar-en-ciencias/estudios/licenciaturas/asignaturas/2016/1430). Al elaborarlo, asumimos que l@s estudiantes del curso **no** tienen experiencia previa con programación, pero **sí** tienen bases teóricas sólidas de álgebra lineal y cálculo diferencial e integral de una variable, así como nociones básicas de ecuaciones diferenciales ordinarias, pues esto último se requerirá en el segundo módulo del curso.\n",
    "\n",
    "### Módulo 0 - Introducción a la programación\n",
    "\n",
    "1. ¿Qué es un programa? (Paradigma imperativo de la programación)\n",
    " curso\n",
    "1. ¿Cómo se ejecuta un programa? ([Lenguaje de programación](, código fuente y compilador)\n",
    "1. ¿Qué tipo de programas existen? (Software privativo, software de código abierto y software libre)\n",
    "1. ¿Cómo creo un programa? (Editor de texto y terminal virtual)\n",
    "1. ¿Cómo aprendo a programar? (Manuales, buscador de internet y foros)\n",
    "1. ¿Qué herramientas me ayudan a programar? ([Julia](https://julialang.org/), [Jupyter](https://jupyter.org/) y [Git](https://git-scm.com/))\n",
    "\n",
    "### Módulo 1 - Estructura básica de la programación\n",
    "\n",
    "1. Algoritmos y diagramas de flujo.\n",
    "1. Conceptos fundamentales. (Tipos de datos, operaciones lógicas y aritméticas, arreglos, variables y constantes, funciones, manejo de memoria)\n",
    "1. Estructura lógica. (Ciclos y condicionales en Julia)\n",
    "1. Sistemas numéricos de punto flotante y error numérico.\n",
    "1. Estructura de la programación modular. (Paqueterías de Julia)\n",
    "\n",
    "### Módulo 2 - Construcción de pseudocódigo para cómputo científico e implementación\n",
    "\n",
    "1. Caminante aleatorio.\n",
    "1. Solución de problemas matriciales.\n",
    "1. Solución de ecuaciones diferenciales ordinarias. (Métodos de Newton y de Runge-Kutta)\n",
    "1. Transformada rápida de Fourier.\n",
    "\n",
    "### Módulo 3 - Programación y visualización de datos\n",
    "\n",
    "1. Visualización de datos en Julia.\n",
    "1. Visualización de sistemas de ecuaciones diferenciales.\n",
    "1. Manipulación de imágenes digitales.\n",
    "\n",
    "### Módulo 4 - Introducción a otros lenguajes de programación\n",
    "\n",
    "1. GNU Octave.\n",
    "1. R."
   ]
  },
  {
   "cell_type": "markdown",
   "id": "128d0e06",
   "metadata": {},
   "source": [
    "## Criterios de evaluación\n",
    "\n",
    "* Tareas (notebooks) - 33.333%\n",
    "* Proyectos intermedios - 33.333%\n",
    "* Proyecto final de aplicación - 33.333%\n",
    "* [Exercism](https://exercism.org/tracks/julia) y [Julia Academy](https://juliaacademy.com/courses?preview=logged_out) - 10% extra\n",
    "\n",
    "¿Entregas via pull requests, o que hagan sus propios repositorios?\n",
    "\n",
    "## Bibliografía recomendada para el curso\n",
    "\n",
    "1. Cairó - Metodología de la programación: Algoritmos, diagramas de flujo y programas (2003).\n",
    "1. Cormen, Leiserson, Rivest, Stein - Introduction to Algorithms (2009).\n",
    "1. [Documentación de Julia](https://docs.julialang.org/en/v1/)."
   ]
  },
  {
   "cell_type": "markdown",
   "id": "a7fd4e2b",
   "metadata": {},
   "source": []
  },
  {
   "cell_type": "code",
   "execution_count": null,
   "id": "9cf44a26",
   "metadata": {},
   "outputs": [],
   "source": [
    "1/3"
   ]
  },
  {
   "cell_type": "code",
   "execution_count": null,
   "id": "236e778f",
   "metadata": {},
   "outputs": [],
   "source": []
  }
 ],
 "metadata": {
  "kernelspec": {
   "display_name": "Julia 1.7.0",
   "language": "julia",
   "name": "julia-1.7"
  },
  "language_info": {
   "file_extension": ".jl",
   "mimetype": "application/julia",
   "name": "julia",
   "version": "1.7.0"
  }
 },
 "nbformat": 4,
 "nbformat_minor": 5
}
