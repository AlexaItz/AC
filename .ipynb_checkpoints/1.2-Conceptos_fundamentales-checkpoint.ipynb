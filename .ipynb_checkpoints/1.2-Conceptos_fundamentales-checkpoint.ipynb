{
 "cells": [
  {
   "cell_type": "markdown",
   "id": "6713df60",
   "metadata": {},
   "source": [
    "# Conceptos fundamentales"
   ]
  },
  {
   "cell_type": "markdown",
   "id": "6e718aa8",
   "metadata": {},
   "source": [
    "### Tipos de datos (en Julia)"
   ]
  },
  {
   "cell_type": "markdown",
   "id": "6724395a",
   "metadata": {},
   "source": [
    "### Operaciones lógicas y aritméticas"
   ]
  },
  {
   "cell_type": "markdown",
   "id": "7b52e5d8",
   "metadata": {},
   "source": [
    "### Arreglos, variables y constantes"
   ]
  },
  {
   "cell_type": "markdown",
   "id": "14cc7ae1",
   "metadata": {},
   "source": [
    "### Funciones, manejo de memoria y recursividad"
   ]
  },
  {
   "cell_type": "code",
   "execution_count": null,
   "id": "45e4d061",
   "metadata": {},
   "outputs": [],
   "source": []
  }
 ],
 "metadata": {
  "kernelspec": {
   "display_name": "Julia 1.7.1",
   "language": "julia",
   "name": "julia-1.7"
  },
  "language_info": {
   "file_extension": ".jl",
   "mimetype": "application/julia",
   "name": "julia",
   "version": "1.7.1"
  }
 },
 "nbformat": 4,
 "nbformat_minor": 5
}
