{
 "cells": [
  {
   "cell_type": "markdown",
   "id": "47de2803",
   "metadata": {},
   "source": [
    "# Métodos numéricos"
   ]
  },
  {
   "cell_type": "code",
   "execution_count": null,
   "id": "3b40ae01",
   "metadata": {},
   "outputs": [],
   "source": []
  },
  {
   "cell_type": "markdown",
   "id": "db01f6ba",
   "metadata": {},
   "source": []
  },
  {
   "cell_type": "markdown",
   "id": "42ad2a19",
   "metadata": {},
   "source": [
    "## Estabilidad\n",
    "\n"
   ]
  },
  {
   "cell_type": "code",
   "execution_count": null,
   "id": "779463f6",
   "metadata": {},
   "outputs": [],
   "source": []
  },
  {
   "cell_type": "markdown",
   "id": "98682289",
   "metadata": {},
   "source": [
    "## Convergencia"
   ]
  },
  {
   "cell_type": "code",
   "execution_count": null,
   "id": "489ff683",
   "metadata": {},
   "outputs": [],
   "source": []
  }
 ],
 "metadata": {
  "kernelspec": {
   "display_name": "Julia 1.7.1",
   "language": "julia",
   "name": "julia-1.7"
  },
  "language_info": {
   "file_extension": ".jl",
   "mimetype": "application/julia",
   "name": "julia",
   "version": "1.7.1"
  }
 },
 "nbformat": 4,
 "nbformat_minor": 5
}
