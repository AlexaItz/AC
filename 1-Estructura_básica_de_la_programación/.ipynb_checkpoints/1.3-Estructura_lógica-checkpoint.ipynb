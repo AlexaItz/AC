{
 "cells": [
  {
   "cell_type": "markdown",
   "id": "8307968b",
   "metadata": {},
   "source": [
    "# Estructura lógica"
   ]
  },
  {
   "cell_type": "markdown",
   "id": "6b5649f8",
   "metadata": {},
   "source": [
    "## Operaciones lógicas\n",
    "\n",
    "La mayoría de los lenguajes de programación tienen una implementación de lógica proposicional; esto es, una lógica bivalente (donde los únicos valores posibles son _verdadero_ y _falso_) con operaciones como negación, conjunción, disyunción, etc, las cuales se aplican a _afirmaciones_, que podemos definir como enunciados para los cuales se puede determinar sin ambigüedad si son verdaderos o falsos.\n",
    "\n",
    "### Valores Booleanos\n",
    "\n",
    "En Julia, los valores _verdadero_ y _falso_ de la lógica proposicional están implementados como `true` y `false`:"
   ]
  },
  {
   "cell_type": "code",
   "execution_count": null,
   "id": "805ddeab",
   "metadata": {},
   "outputs": [],
   "source": [
    "true"
   ]
  },
  {
   "cell_type": "code",
   "execution_count": null,
   "id": "963e18b0",
   "metadata": {},
   "outputs": [],
   "source": [
    "false"
   ]
  },
  {
   "cell_type": "markdown",
   "id": "b6cd0dfd",
   "metadata": {},
   "source": [
    "Una de las ventajas de contar con estos dos valores (\"de verdad\") es que pueden ser utilizados como salidas (_output_) para algunos operadores importantes, como veremos en la siguiente sección.\n",
    "\n",
    "**Ejercicio** ¿Qué tipo de datos son los valores `true` y `false` en Julia?"
   ]
  },
  {
   "cell_type": "markdown",
   "id": "7be177b1",
   "metadata": {},
   "source": [
    "### Operadores de comparación\n",
    "\n",
    "Los símbolos `>`, `<`, `>=` y `<=` se utilizan para evaluar las desigualdades matemáticas \"mayor que\", \"menor que\", \"mayor o igual que\" y \"menor o igual que\", respectivamente. Sus entradas (_inputs_) son dos números (uno a cada lado del operador) y sus salidas son valores Booleanos:"
   ]
  },
  {
   "cell_type": "code",
   "execution_count": null,
   "id": "3f657d29",
   "metadata": {},
   "outputs": [],
   "source": [
    "5 > 2"
   ]
  },
  {
   "cell_type": "code",
   "execution_count": null,
   "id": "320cc2b8",
   "metadata": {},
   "outputs": [],
   "source": [
    "1 < 7"
   ]
  },
  {
   "cell_type": "code",
   "execution_count": null,
   "id": "2b0b2cc6",
   "metadata": {},
   "outputs": [],
   "source": [
    "4 >= 3"
   ]
  },
  {
   "cell_type": "code",
   "execution_count": null,
   "id": "fdde522b",
   "metadata": {
    "scrolled": true
   },
   "outputs": [],
   "source": [
    "6 <= 6"
   ]
  },
  {
   "cell_type": "markdown",
   "id": "46a1c866",
   "metadata": {},
   "source": [
    "Los símbolos `==` y `!=` se utilizan para evaluar una igualdad o diferencia, respectivamente, como en los ejemplos siguientes:"
   ]
  },
  {
   "cell_type": "code",
   "execution_count": null,
   "id": "11f1ecfe",
   "metadata": {},
   "outputs": [],
   "source": [
    "5 == 4"
   ]
  },
  {
   "cell_type": "code",
   "execution_count": null,
   "id": "2c7705ac",
   "metadata": {},
   "outputs": [],
   "source": [
    "5 != 4"
   ]
  },
  {
   "cell_type": "markdown",
   "id": "36cce3a0",
   "metadata": {},
   "source": [
    "_A grosso modo_, podemos imaginar que los símbolos `==` y `!=` representan las frases \"es igual a\" y \"no es igual a/es distinto de\", respectivamente; por ejemplo, podemos leer la expresión `5 != 4` como \"cinco no es igual a cuatro\" o \"cinco es distinto de cuatro\" -lo cual, por supuesto, es verdadero (la razón del símbolo `!` al inicio del segundo operador quedará clara en la siguiente sección).\n",
    "\n",
    "Observemos que los seis operadores de comparación que hemos visto sirven para comparar números. Por ende, también sirven para comparar expresiones que se evalúan en números, como en los ejemplos siguientes:"
   ]
  },
  {
   "cell_type": "code",
   "execution_count": null,
   "id": "63d5fe78",
   "metadata": {},
   "outputs": [],
   "source": [
    "8+1 > 8-1"
   ]
  },
  {
   "cell_type": "code",
   "execution_count": null,
   "id": "83e837bc",
   "metadata": {},
   "outputs": [],
   "source": [
    "3^2 <= 3*2"
   ]
  },
  {
   "cell_type": "code",
   "execution_count": null,
   "id": "622b1637",
   "metadata": {},
   "outputs": [],
   "source": [
    "8-1 == 1-8"
   ]
  },
  {
   "cell_type": "code",
   "execution_count": null,
   "id": "6b3d4f63",
   "metadata": {},
   "outputs": [],
   "source": [
    "4/6 != 6/4"
   ]
  },
  {
   "cell_type": "markdown",
   "id": "5b17e708",
   "metadata": {},
   "source": [
    "Es decir que, utilizando los operadores de comparación `!=` y `==`, podemos comparar dos expresiones sin tener que evaluar cada una de ellas individualmente en celdas distintas (Tal vez recuerdes haber visto ejemplos muy similares a los últimos dos ejemplos anteriores en la sección **Asociatividad y precedencia** del _notebook_ `1.2-Conceptos_fundamentales.ipynb`, ¡compáralos!). En particular, estos operadores también se pueden utilizar para comparar valores Booleanos:"
   ]
  },
  {
   "cell_type": "code",
   "execution_count": null,
   "id": "e0987979",
   "metadata": {},
   "outputs": [],
   "source": [
    "true == true"
   ]
  },
  {
   "cell_type": "code",
   "execution_count": null,
   "id": "5b5f7264",
   "metadata": {},
   "outputs": [],
   "source": [
    "false != true"
   ]
  },
  {
   "cell_type": "markdown",
   "id": "8a7f9ff3",
   "metadata": {},
   "source": [
    "### Operadores lógicos\n",
    "\n",
    "La lógica proposicional es extremadamente útil para construir circuitos lógicos, y estos son la base para la electrónica, que es el origen de la informática. Por ende, tiene sentido que sea común hacer una implementación de lógica proposicional en lenguajes de programación.\n",
    "\n",
    "En Julia, los símbolos `!`, `&&`, `||` se utilizan para denotar las operaciones de negación, conjunción y disyunción, respectivamente:"
   ]
  },
  {
   "cell_type": "code",
   "execution_count": null,
   "id": "be4f95ec",
   "metadata": {},
   "outputs": [],
   "source": [
    "! false"
   ]
  },
  {
   "cell_type": "code",
   "execution_count": null,
   "id": "280453ce",
   "metadata": {},
   "outputs": [],
   "source": [
    "true && true"
   ]
  },
  {
   "cell_type": "code",
   "execution_count": null,
   "id": "881bd7a2",
   "metadata": {
    "scrolled": true
   },
   "outputs": [],
   "source": [
    "true || false"
   ]
  },
  {
   "cell_type": "markdown",
   "id": "d129fa9b",
   "metadata": {},
   "source": [
    "Podemos utilizar paréntesis `()` para englobar algunas afirmaciones, y así formar afirmaciones más complejas, ¡igual a como lo hacemos con expresiones matemáticas!"
   ]
  },
  {
   "cell_type": "code",
   "execution_count": null,
   "id": "deae8e74",
   "metadata": {
    "scrolled": true
   },
   "outputs": [],
   "source": [
    "(false && true) || true"
   ]
  },
  {
   "cell_type": "markdown",
   "id": "f8969279",
   "metadata": {},
   "source": [
    "**Ejercicio** Obten el valor `false` como salida en cada una de las celdas de código anteriores que contienen operaciones lógicas **modificando sólo un valor** en cada celda (¡Recuerda tus tablas de valores de verdad!)."
   ]
  },
  {
   "cell_type": "markdown",
   "id": "bbeb5105",
   "metadata": {},
   "source": [
    "Más aún, podemos formar afirmaciones más complejas uniendo operadores lógicos con expresiones que se evalúen a valores Booleanos. Un ejemplo se muestra en la siguiente celda (Piensa en cuál es el valor Booleano que devuelve cada expresión entre paréntesis en esta celda de cógido y compárala con la anterior):"
   ]
  },
  {
   "cell_type": "code",
   "execution_count": null,
   "id": "60c128b3",
   "metadata": {},
   "outputs": [],
   "source": [
    "((8-1 == 1-8) && (4/6 != 6/4)) || (5 != 4)"
   ]
  },
  {
   "cell_type": "markdown",
   "id": "f44d3c9a",
   "metadata": {},
   "source": [
    "Tal vez te estés preguntando, ¿por qué los operadores lógicos de conjunción, disyunción y evaluación de igualdad utilizan símbolos dobles (`&&`, `||` y `==`, respectivamente)? La razón es que, en Julia, los símbolos `&`, `|` y `=` tienen una función muy diferente a las operaciones mencionadas; de hecho, como vimos en el _notebook_ pasado, el símbolo `=` se utiliza para denotar la operación de _asignación_, lo cual sirve para definir, por ejemplo, variables y funciones. ¡Es muy importante recordar este detalle cuando estemos haciendo operaciones lógicas!"
   ]
  },
  {
   "cell_type": "markdown",
   "id": "67ebf46f",
   "metadata": {},
   "source": [
    "Aquí va una observación importante sobre la sintáxis de Julia: no es necesario dejar espacio entre los valores (Booleanos o numéricos) y los operadores -por ejemplo, `6<=6` evalúa a lo mismo que `6 <= 6`-; sin embargo, poner un espacio _en medio_ de operadores con más de un símbolo nos generará un error, pues esto hará que Julia interprete ambos símbolos por separado, causando (la mayoría del tiempo) que lo que hayamos escrito no tenga sentido (¡verifica ambas observaciones _experimentalmente_!)."
   ]
  },
  {
   "cell_type": "markdown",
   "id": "6b8f8c2f",
   "metadata": {},
   "source": [
    "Otra observación importante: El operador de conjunción `&&` tiene una _precedencia mayor_ que el de disyunción `||`; es decir, si escribimos una expresión _sin paréntesis_ que contenga a ambos operadores, al evaluar la expresión se harán _primero_ las operaciones de conjunción y _después_ las de disyunción, como se observa corriendo las siguientes tres celdas:"
   ]
  },
  {
   "cell_type": "code",
   "execution_count": null,
   "id": "24b9f664",
   "metadata": {},
   "outputs": [],
   "source": [
    "false && false || true"
   ]
  },
  {
   "cell_type": "code",
   "execution_count": null,
   "id": "9d5b5a5f",
   "metadata": {},
   "outputs": [],
   "source": [
    "(false && false) || true"
   ]
  },
  {
   "cell_type": "code",
   "execution_count": null,
   "id": "4013e4d9",
   "metadata": {},
   "outputs": [],
   "source": [
    "false && (false || true)"
   ]
  },
  {
   "cell_type": "markdown",
   "id": "0198ed01",
   "metadata": {},
   "source": [
    "Como de costumbre, **es altamente recomendable usar paréntesis al escribir expresiones con varios operadores**, pues así **no tenemos que recordar la precedencia de todos los operadores** y, además, **las expresiones son más claras y fáciles de leer** (el uso correcto del espaciado también ayuda en este último punto)."
   ]
  },
  {
   "cell_type": "markdown",
   "id": "f5519167",
   "metadata": {},
   "source": [
    "## Condicionales\n",
    "\n",
    "### Declaraciones `if` (_if statements_)\n",
    "\n",
    "Al momento de escribir programas, es útil poder ejecutar algunos comandos especiales _sólo si se cumplen ciertas condiciones_. La manera de hacer esto es con declaraciones _condicionales_; las más sencillas son del tipo\n",
    "\n",
    "$$\\textit{si sucede 'x', entonces haz 'y'}.$$\n",
    "\n",
    "Un ejemplo de una declaración de este tipo en Julia es el siguiente:"
   ]
  },
  {
   "cell_type": "code",
   "execution_count": null,
   "id": "391fd507",
   "metadata": {},
   "outputs": [],
   "source": [
    "v = 1\n",
    "\n",
    "if v > 2\n",
    "    \n",
    "    println(\"¡Lo lograste!\")\n",
    "    \n",
    "end"
   ]
  },
  {
   "cell_type": "markdown",
   "id": "49be1ec6",
   "metadata": {},
   "source": [
    "Observa que, si corres la celda anterior, no ocurre nada. Esto es porque la condición `v > 1` **no se cumple**.\n",
    "\n",
    "**Ejercicio** Cambia **sólo un símbolo** (letra, número, operador, etc) de la celda anterior de tal forma que obtengas algo en la salida (Hay dos maneras diferentes de hacerlo). Después, comenta el código de la celda anterior."
   ]
  },
  {
   "cell_type": "markdown",
   "id": "902741df",
   "metadata": {},
   "source": [
    "Las declaraciones condicionales como la del ejemplo anterior se conocen como declaraciones `if`, pues esta palabra significa \"si\" en inglés. La sintáxis general de una declaración `if` en Julia (traducida al español) es:\n",
    "\n",
    "$\\color{green}{\\text{si}} \\ \\ \\text{condición}$\n",
    "\n",
    "$\\quad \\quad \\text{entonces...}$\n",
    "\n",
    "$\\color{green}{\\text{fin}}$\n",
    "\n",
    "donde $\\text{entonces...}$ es todo el código que se encuentre _debajo_ de la condición y _arriba_ de $\\color{green}{\\text{fin}}$. La idea básica de una declaración `if` es: si, al correr el código, la expresión $\\text{condición}$ se evalúa a `true`, se ejecutará el bloque de código $\\text{entonces...}$.\n",
    "\n",
    "**Ejercicio** Escribe una celda de código en donde se defina una variable y:\n",
    "* si la variable es mayor que cinco, devuelva la frase _mayor que cinco_;\n",
    "* si la variable es menor o igual que cinco, devuelva la frase _menor o igual que cinco_.\n",
    "\n",
    "(Pista: utiliza dos declaraciones `if`.)"
   ]
  },
  {
   "cell_type": "code",
   "execution_count": null,
   "id": "7b831d63",
   "metadata": {},
   "outputs": [],
   "source": [
    "# Tu código (comentado) va aquí :D"
   ]
  },
  {
   "cell_type": "markdown",
   "id": "b5b381a9",
   "metadata": {},
   "source": [
    "**Ejercicio** Crea una nueva celda con un código que haga lo mismo que en el ejercicio anterior, pero **sólo** si la variable es de tipo `Int64`. Para hacerlo, primero escribe un **diagrama de flujo**\n",
    "(Pista: ¡el bloque de código $\\text{entonces...}$ en una declaración condicional puede, en particular, contener más declaraciones `if`!)"
   ]
  },
  {
   "cell_type": "code",
   "execution_count": null,
   "id": "2e625431",
   "metadata": {},
   "outputs": [],
   "source": [
    "# Tu código (comentado) va aquí :D"
   ]
  },
  {
   "cell_type": "markdown",
   "id": "6536eb3b",
   "metadata": {},
   "source": [
    "### Declaraciones `if-else` (_if-else statements_)\n",
    "\n",
    "Después de haber hecho los ejercicios de la sección anterior, quizá habrás notado que, en el penúltimo ejercicio, la condición sobre la variable que definiste que da como resultado la frase _menor o igual que cinco_ es la **negación** de la condición que da como resultado _mayor que cinco_, por lo que pudimos haber escrito las declaraciones condicionales (ahora sí, en inglés) de esta forma:\n",
    "\n",
    "$\\color{green}{\\text{if }} \\text{condition}$\n",
    "\n",
    "$\\quad \\quad \\text{then...}$\n",
    "\n",
    "$\\color{green}{\\text{end}}$\n",
    "\n",
    "$\\color{green}{\\text{if}} \\ \\ \\color{magenta}{\\text{! }}\\text{condition}$\n",
    "\n",
    "$\\quad \\quad \\text{then...}$\n",
    "\n",
    "$\\color{green}{\\text{end}}$\n",
    "\n",
    "Dado que cuando programamos es extremadamente común querer verificar una condición y, además de ejecutar cierto código si se verifica, tener un código alternativo a ejecutar si **no** se verifica, suele haber una forma más sencilla de escribir esto. En Julia se utiliza `else`, pues esta palabra significa \"si no/en caso contrario/de otro modo\" en inglés, y las declaraciones condicionales de este tipo se conocen como `if/else`. La sintáxis general de una declaración `if-else` en Julia es:\n",
    "\n",
    "$\\color{green}{\\text{if}} \\ \\ \\text{condition}$\n",
    "\n",
    "$\\quad \\quad \\text{then...}$\n",
    "\n",
    "$\\color{green}{\\text{else}}$\n",
    "\n",
    "$\\quad \\quad \\text{alternative...}$\n",
    "\n",
    "$\\color{green}{\\text{end}}$\n",
    "\n",
    "La idea básica de una declaración `if-else` es: si, al correr el código, la expresión $\\text{condition}$ se evalúa a `true`, se ejecutará el bloque de código $\\text{then...}$ mientras que, si se evalúa a `false`, se ejecutará el bloque de código $\\text{alternative...}$ ¿ves lo útiles que se han vuelto los valores Booleanos tan pronto?\n",
    "\n",
    "**Ejercicio** Reescribe tu solución del penúltimo ejercicio de la sección **Declaraciones `if` (_if statements_)** utilizando una declaración `if-else`."
   ]
  },
  {
   "cell_type": "code",
   "execution_count": null,
   "id": "a21b4eea",
   "metadata": {},
   "outputs": [],
   "source": [
    "# Tu código (comentado) va aquí :D"
   ]
  },
  {
   "cell_type": "markdown",
   "id": "282bc240",
   "metadata": {},
   "source": [
    "### Declaraciones `if-elseif-else` (_if-elseif-else statements_)\n",
    "\n",
    "Existe otra situación recurrente cuando queremos programar en función de que se cumplan o no ciertas condiciones: esto es cuando, más allá de sólo querer verificar si **una** condición **se cumple o no**, queremos verificar si **alguna de varias** condiciones se cumple, especificar **para cada una de ellas** qué sucederá si se llega a cumplir, y especificar que sucederá si **ninguna** de ellas se cumple. Con lo que sabemos, podríamos escribir un proceso así como:\n",
    "\n",
    "$\\color{green}{\\text{if}} \\ \\ \\text{condition1}$\n",
    "\n",
    "$\\quad \\quad \\text{then}1...$\n",
    "\n",
    "$\\color{green}{\\text{else}}$\n",
    "\n",
    "$\\quad \\quad \\color{green}{\\text{if}} \\ \\ \\text{condition2}$\n",
    "\n",
    "$\\quad \\quad \\quad \\quad \\text{then}2...$\n",
    "\n",
    "$\\quad \\quad \\color{green}{\\text{else}}$\n",
    "\n",
    "$\\quad \\quad \\quad \\quad \\color{green}{\\text{if}} \\ \\ \\text{condition2}$\n",
    "\n",
    "$\\quad \\quad \\quad \\quad \\quad \\quad \\text{then}2...$\n",
    "\n",
    "$\\quad \\quad \\quad \\quad \\color{green}{\\text{else}}$\n",
    "\n",
    "$\\quad \\quad \\quad \\quad \\quad \\quad \\quad \\quad \\quad \\quad \\dots$\n",
    "\n",
    "$\\quad \\quad \\quad \\quad \\quad \\quad \\quad \\quad \\quad \\quad \\quad \\quad \\color{green}{\\text{if}} \\ \\ \\text{condition}n$\n",
    "\n",
    "$\\quad \\quad \\quad \\quad \\quad \\quad \\quad \\quad \\quad \\quad \\quad \\quad \\quad \\quad \\text{then}n...$\n",
    "\n",
    "$\\quad \\quad \\quad \\quad \\quad \\quad \\quad \\quad \\quad \\quad \\quad \\quad \\color{green}{\\text{else}}$\n",
    "\n",
    "$\\quad \\quad \\quad \\quad \\quad \\quad \\quad \\quad \\quad \\quad \\quad \\quad \\quad \\quad \\text{alternative...}$\n",
    "\n",
    "$\\quad \\quad \\quad \\quad \\quad \\quad \\quad \\quad \\quad \\quad \\quad \\quad \\color{green}{\\text{end}}$\n",
    "\n",
    "$\\quad \\quad \\quad \\quad \\quad \\quad \\quad \\quad \\quad \\quad \\dots$\n",
    "\n",
    "$\\quad \\quad \\quad \\quad \\color{green}{\\text{end}}$\n",
    "\n",
    "$\\quad \\quad \\color{green}{\\text{end}}$\n",
    "\n",
    "$\\color{green}{\\text{end}}$\n",
    "\n",
    "En este caso, el bloque de código que se ejecutará si **ninguna** de las condiciones de las declaraciones `if` se cumple es $\\text{alternative...}$. \n",
    "\n",
    "Las \"cascadas\" de declaraciones `if-else` anidadas como la anterior a menudo no son fáciles de entender a simple vista, lo cual complica poder programar procesos de este tipo. Afortunadamente, en Julia, existe una manera de simplificar este tipo de expresiones, utilizando `elseif` para decir \"si no se cumple la condición anterior, entonces si se cumple esta nueva condición...\"; las declaraciones condicionales de este tipo se conocen como declaraciones `if-elseif-else`, y la sintáxis general de una declaración de este tipo en Julia es:\n",
    "\n",
    "$\\color{green}{\\text{if}} \\ \\ \\text{condition1}$\n",
    "\n",
    "$\\quad \\quad \\text{then}1...$\n",
    "\n",
    "$\\color{green}{\\text{elseif}} \\ \\ \\text{condition2}$\n",
    "\n",
    "$\\quad \\quad \\text{then}2...$\n",
    "\n",
    "...\n",
    "\n",
    "$\\color{green}{\\text{elseif}} \\ \\ \\text{condition}n$\n",
    "\n",
    "$\\quad \\quad \\text{then}n...$\n",
    "\n",
    "$\\color{green}{\\text{else}}$\n",
    "\n",
    "$\\quad \\quad \\text{alternative...}$\n",
    "\n",
    "$\\color{green}{\\text{end}}$\n",
    "\n",
    "Esto es equivalente a la \"cascada\" de declaraciones `if` anidadas anterior, por lo que logra el mismo propósito ¡pero siendo mucho más manejable!\n",
    "\n",
    "**Nota** _¡No todos los lenguajes de programación tienen algo parecido a `elseif`!_ por lo que,  en muchos otros, en la práctica se tienen que anidar varias declaraciones `if` \"en cascada\" bajo una declaración `if` básica (cuya verificación sea un requisito previo a todas las declaraciones anidadas) para lograr un efecto parecido."
   ]
  },
  {
   "cell_type": "markdown",
   "id": "4a5bbad4",
   "metadata": {},
   "source": [
    "**Ejercicio** Escribe un código en donde defines una variable y, sólo si la variable es de tipo `Int64`, devuelva la palabra _positivo_, _negativo_ o _cero_ dependiendo de si el número flotante es positivo, negativo o cero, respectivamente. Para hacerlo, primero escribe un **diagrama de flujo**."
   ]
  },
  {
   "cell_type": "code",
   "execution_count": null,
   "id": "b4998456",
   "metadata": {},
   "outputs": [],
   "source": [
    "# Tu código (comentado) va aquí :D"
   ]
  },
  {
   "cell_type": "markdown",
   "id": "e3f38c91",
   "metadata": {},
   "source": [
    "Una observación **crucial** sobre las declaraciones `if-elseif-else` en Julia es que **las condiciones se verifican secuencialmente de arriba hacia abajo** y que **las declaraciones `if-elseif-else` terminan de ejecutarse en cuanto una de las condiciones se verifica**. En efecto, todo esto se puede deducir a partir del **diagrama de flujo** de las declaraciones `if-elseif-else` en Julia o, equivalentemente, recordando que estas declaraciones son equivalentes a anidar muchas declaraciones `if-else` \"en cascada\".\n",
    "\n",
    "Una consecuencia de esto es que, si escribimos una declaración `if-elseif-else` en la que una **misma** condición aparece **varias veces**, sólo se ejecutará el bloque de código que se encuentra debajo de **la primera vez** que aparece dicha condición. Por lo tanto, siempre que utilicemos este tipo de declaraciones condicionales, hay que **tener cuidado en cómo ordenamos nuestras condiciones** y **verificar que todas ellas funcionen correctamente**."
   ]
  },
  {
   "cell_type": "markdown",
   "id": "a8fa594d",
   "metadata": {},
   "source": [
    "Una observación útil es que ¡podemos utilizar declaraciones condicionales para definir funciones!\n",
    "\n",
    "**Ejercicio** Define una función llamada `QuéEs` que tome una variable numérica y devuelva la frase:\n",
    "* _¡Es entero!_ si el número es de tipo `Int64`;\n",
    "* _¡Es de punto flotante!_ si el número es de tipo `Float64` (del cual aprenderemos en el siguiente _notebook_);\n",
    "* _¡Es complejo!_ si el número es de tipo `Complex`;\n",
    "* _¡No sé qué es!_ si ninguna de las condiciones anteriores se cumple.\n",
    "\n",
    "de tal forma que, si la variable introducida no es numérica, **marque un error** (Sugerencia: Usa [la documentación de Julia](https://docs.julialang.org/en/v1/base/numbers/) como referencia y utiliza operadores lógicos y paréntesis en las condiciones que lo requieran)."
   ]
  },
  {
   "cell_type": "code",
   "execution_count": null,
   "id": "30c46ba8",
   "metadata": {},
   "outputs": [],
   "source": [
    "# Tu código comentado va aquí :D"
   ]
  },
  {
   "cell_type": "markdown",
   "id": "32f02ac1",
   "metadata": {},
   "source": [
    "## Ciclos (_loops_)"
   ]
  },
  {
   "cell_type": "markdown",
   "id": "3fd57620",
   "metadata": {},
   "source": [
    "### Ciclos `for` (_for loops_)"
   ]
  },
  {
   "cell_type": "markdown",
   "id": "6d45d4a5",
   "metadata": {},
   "source": [
    "### Ciclos `while` (_while loops_)"
   ]
  },
  {
   "cell_type": "markdown",
   "id": "32b41520",
   "metadata": {},
   "source": [
    "### Ciclos recursivos"
   ]
  },
  {
   "cell_type": "markdown",
   "id": "aff598bb",
   "metadata": {},
   "source": [
    "## Visualización de ciclos con... ¡tortugas!\n",
    "\n",
    "Imaginemos que tenemos una tortuga en el origen de un plano cartesiano que tiene una pluma pegada, la cual puede poner sobre el papel o bien levantar, y que esta tortuga entiende sólo cuatro instrucciones:\n",
    "* camina hacia adelante un número $d$ de unidades de distancia,\n",
    "* gira $\\theta$ grados,\n",
    "* levanta la pluma y\n",
    "* baja la pluma.\n",
    "\n",
    "Si le pedimos que camine hacia adelante mientras tiene la pluma abajo (i.e. sobre el papel), dibujará una línea recta, mientras que, si le pedimos que camine cuando tiene la pluma arriba (i.e. levantada), no dibujará nada. La tortuga tampoco dibujará nada si le pedimos que gire, pues asumiremos que, aún con la pluma abajo, la marca es tan pequeña que no se alcanza a ver. \n",
    "\n",
    "Observa que, con las cuatro instrucciones anteriores (y la cooperación de la tortuga, por supuesto) pordemos dibujar **cualquier figura bidimensional compuesta únicamente por líneas rectas**. En serio, **piénsalo**."
   ]
  },
  {
   "cell_type": "markdown",
   "id": "1688c677",
   "metadata": {},
   "source": [
    "### Dibujando líneas con tortugas en Julia\n",
    "\n",
    "Afortunadamente, existe un programa que hace exactamente lo que acabamos de describir. Está incluido dentro de la biblioteca [`ThinkJulia`](https://github.com/BenLauwens/ThinkJulia.jl), creado como recurso didáctico del libro \"Think Julia: How to Think Like a Computer Scientist\" de Ben Lauwens (puedes encontrar la versión en línea del libro [aquí](https://benlauwens.github.io/ThinkJulia.jl/latest/book.html#_turtles)). Instalemos e importemos esta biblioteca:"
   ]
  },
  {
   "cell_type": "code",
   "execution_count": null,
   "id": "14319d11",
   "metadata": {},
   "outputs": [],
   "source": [
    "using Pkg                                                  # Importamos la biblioteca \"Pkg\" para poder instalar \"paquetes\" (blbiotecas);\n",
    "Pkg.add(url=\"https://github.com/BenLauwens/ThinkJulia.jl\") # luego, instalamos la biblioteca \"ThinkJulia\"."
   ]
  },
  {
   "cell_type": "code",
   "execution_count": null,
   "id": "df201858",
   "metadata": {},
   "outputs": [],
   "source": [
    "using ThinkJulia                                           # Importamos la biblioteca \"ThinkJulia\".\n",
    "\n",
    "#= NOTA: Después de instalar la biblioteca \"ThinkJulia\" localmente en tu computadora, podrás importarla sin tener que\n",
    "volverla a instalar; por ende, recomendamos comentar la celda de código anterior después de la instalación inicial,\n",
    "pues ya no será necesaria =#"
   ]
  },
  {
   "cell_type": "markdown",
   "id": "50a51f41",
   "metadata": {},
   "source": [
    "En la siguiente celda, usamos la función `Turtle` para inicializar nuestra tortuga en el origen del plano cartesiano y luego mostramos un ejemplo con las cuatro instrucciones que podemos darle. Como existe un caracter [`Unicode`](https://es.wikipedia.org/wiki/Unicode) de tortuga que podemos usar para nombrar variables con Julia, lo usaremos para definir a nuestra tortuga, por pura diversión; este caracter se obtiene escribiendo `\\:turtle:` en una celda de código de Julia y auto completando con la tecla `TAB`.\n",
    "\n",
    "Corre la siguiente celda, experimenta cambiando el valor de distancia `d` y comentando alguna o varias líneas del bloque `begin`, y observa cómo cambia el dibujo que haces con la tortuga. ¿Hacia dónde mira la tortuga al inicio? ¿La convención de grados que sigue la tortuga es igual a la convención matemática usual en el plano cartesiano?"
   ]
  },
  {
   "cell_type": "code",
   "execution_count": null,
   "id": "ec328876",
   "metadata": {},
   "outputs": [],
   "source": [
    "🐢 = Turtle() #Inicializamos nuestra tortuga en el origen del plano.\n",
    "\n",
    "d = 100\n",
    "\n",
    "@svg begin           # '@svg' toma las instrucciones dentro del bloque `begin` y genera un svg con ellas, que Jupyter nos muestra\n",
    "    forward(🐢,d)\n",
    "    penup(🐢)\n",
    "    forward(🐢,d)\n",
    "    pendown(🐢)\n",
    "    forward(🐢,d)\n",
    "    turn(🐢, 90)\n",
    "    forward(🐢,d)\n",
    "end"
   ]
  },
  {
   "cell_type": "markdown",
   "id": "16198369",
   "metadata": {},
   "source": [
    "**Ejercicio** Dibuja una línea punteada con 5 líneas negras de 10 unidades de distancia cada una con 10 unidades de distancia entre ellas. (Sugerencia: copia el código de la celda anterior y modifícalo a tu conveniencia.)"
   ]
  },
  {
   "cell_type": "code",
   "execution_count": null,
   "id": "ac77acc6",
   "metadata": {},
   "outputs": [],
   "source": []
  },
  {
   "cell_type": "markdown",
   "id": "0740193f",
   "metadata": {},
   "source": [
    "**Ejercicio** Si no utilizaste un ciclo para resolver el ejercicio anterior, reescribe tu programa utilizando un ciclo `for` o `while`."
   ]
  },
  {
   "cell_type": "code",
   "execution_count": null,
   "id": "364b1176",
   "metadata": {},
   "outputs": [],
   "source": []
  },
  {
   "cell_type": "markdown",
   "id": "e5762d8e",
   "metadata": {},
   "source": [
    "**Ejercicio** Haz un programa que tome tres parámetros `n`, `d1` y `d2` (los cuales puedes definir como variables en la misma celda) y dibuje `n` líneas de longitud `d1` con una distancia de separación `d2` entre ellas utilizando un ciclo `for` o `while`."
   ]
  },
  {
   "cell_type": "code",
   "execution_count": null,
   "id": "596497c3",
   "metadata": {},
   "outputs": [],
   "source": []
  },
  {
   "cell_type": "markdown",
   "id": "b2462d2d",
   "metadata": {},
   "source": [
    "**Ejercicio** Haz un programa que dibuje un triángulo equilátero de lado `d`."
   ]
  },
  {
   "cell_type": "code",
   "execution_count": null,
   "id": "297ea71a",
   "metadata": {},
   "outputs": [],
   "source": []
  },
  {
   "cell_type": "markdown",
   "id": "f852f46e",
   "metadata": {},
   "source": [
    "**Ejercicio** Generaliza el programa anterior a uno que tome dos parámetros `n` y `d` y dibuje un polígono regular de `n` lados de longitud `d` utilizando un ciclo `for` o `while`."
   ]
  },
  {
   "cell_type": "code",
   "execution_count": null,
   "id": "ca6fe61a",
   "metadata": {},
   "outputs": [],
   "source": []
  },
  {
   "cell_type": "markdown",
   "id": "40948d24",
   "metadata": {},
   "source": [
    "### Tortugas y fractales\n",
    "\n",
    "Podemos combinar ciclos `for`/`while` con ciclos recursivos para dibujar fractales (más precisamente, una aproximación de ellos) pero al menos una linda aproximación de ellos) con ayuda de nuestra amiga tortuga."
   ]
  },
  {
   "cell_type": "code",
   "execution_count": null,
   "id": "a179d6af",
   "metadata": {},
   "outputs": [],
   "source": [
    "function estrella(tort,dist)\n",
    "    if dist <= 5\n",
    "        return\n",
    "    else\n",
    "        for i in 1:5\n",
    "            forward(tort,dist)\n",
    "            estrella(tort,dist/3)\n",
    "            turn(tort,216)\n",
    "        end\n",
    "    end\n",
    "end\n",
    "\n",
    "🐢 = Turtle() #Inicializamos nuestra tortuga en el origen del plano.\n",
    "\n",
    "d = 200\n",
    "\n",
    "@svg estrella(🐢,d) "
   ]
  },
  {
   "cell_type": "markdown",
   "id": "8e808b43",
   "metadata": {},
   "source": [
    "### Dato curioso\n",
    "\n",
    "El _software_ de la biblioteca `ThinkJulia` que acabamos de utilizar está basado en la biblioteca [`turtle`](https://docs.python.org/3/library/turtle.html) de Python la cual, a su vez, está basada en el lenguaje de programación educativo [`Logo`](https://en.wikipedia.org/wiki/Logo_(programming_language)) creado en 1967."
   ]
  }
 ],
 "metadata": {
  "kernelspec": {
   "display_name": "Julia 1.7.1",
   "language": "julia",
   "name": "julia-1.7"
  },
  "language_info": {
   "file_extension": ".jl",
   "mimetype": "application/julia",
   "name": "julia",
   "version": "1.7.1"
  }
 },
 "nbformat": 4,
 "nbformat_minor": 5
}
