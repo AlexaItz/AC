{
 "cells": [
  {
   "cell_type": "markdown",
   "id": "6713df60",
   "metadata": {},
   "source": [
    "# Conceptos fundamentales\n",
    "\n",
    "En este _notebook_, aprenderemos sobre algunos conceptos fundamentales de la programación. Estos conceptos son bastante generales y se encuentran presentes en la mayoría de los lenguajes de programación; sin embargo, nos enfocaremos en entender _a grosso modo_ cómo es que estos conceptos están implementados en Julia."
   ]
  },
  {
   "cell_type": "markdown",
   "id": "97f5a887",
   "metadata": {},
   "source": [
    "## Operaciones aritméticas\n",
    "En Julia, los símbolos `+`, `-`, `*`, `/` y `^` se utilizan para denotar las operaciones de suma, resta, multiplicación, división y exponenciación, respectivamente, de manera similar a como lo hacemos en matemáticas."
   ]
  },
  {
   "cell_type": "code",
   "execution_count": 20,
   "id": "8f908cf8",
   "metadata": {},
   "outputs": [
    {
     "data": {
      "text/plain": [
       "6"
      ]
     },
     "execution_count": 20,
     "metadata": {},
     "output_type": "execute_result"
    }
   ],
   "source": [
    "4+2"
   ]
  },
  {
   "cell_type": "markdown",
   "id": "1f1033f6",
   "metadata": {},
   "source": [
    "Generalmente, a los símbolos que realizan alguna operación en Julia se conocen como _operadores_; en particular, `+`, `-`, `*`, `/` y `^` son _operadores aritméticos_.\n",
    "\n",
    "**Ejercicio** Obten cada uno de los valores siguientes con **una sola modificación** de la expresión `4+2`.\n",
    "\n",
    "* 2\n",
    "* 4\n",
    "* 8\n",
    "* 16\n",
    "\n",
    "Asegúrate de usar cada operación aritmética al menos una vez. ¿De cuántas maneras diferentes podrás hacerlo para cada número?"
   ]
  },
  {
   "cell_type": "markdown",
   "id": "4874a3f3",
   "metadata": {},
   "source": [
    "## Asociatividad y precedencia\n",
    "\n",
    "Normalmente consideramos las operaciones de suma y multiplicación entre números naturales, enteros, racionales, reales y complejos, y sabemos que estas operaciones conmutan, por lo que no es de extrañar que, por ejemplo, `5+3` se evalúe a lo mismo que `3+5`, o que `2*7` dé lo mismo que `7*2` (¡pruébalo!). Sin embargo, ¿qué pasa si intentamos hacer algo análogo con los operadores de resta y de división?"
   ]
  },
  {
   "cell_type": "code",
   "execution_count": 7,
   "id": "dc3a738a",
   "metadata": {},
   "outputs": [
    {
     "data": {
      "text/plain": [
       "7"
      ]
     },
     "execution_count": 7,
     "metadata": {},
     "output_type": "execute_result"
    }
   ],
   "source": [
    "8-1"
   ]
  },
  {
   "cell_type": "code",
   "execution_count": 8,
   "id": "89425a87",
   "metadata": {},
   "outputs": [
    {
     "data": {
      "text/plain": [
       "-7"
      ]
     },
     "execution_count": 8,
     "metadata": {},
     "output_type": "execute_result"
    }
   ],
   "source": [
    "1-8"
   ]
  },
  {
   "cell_type": "code",
   "execution_count": 9,
   "id": "a4f848ec",
   "metadata": {},
   "outputs": [
    {
     "data": {
      "text/plain": [
       "0.6666666666666666"
      ]
     },
     "execution_count": 9,
     "metadata": {},
     "output_type": "execute_result"
    }
   ],
   "source": [
    "4/6"
   ]
  },
  {
   "cell_type": "code",
   "execution_count": 10,
   "id": "1368f0ba",
   "metadata": {},
   "outputs": [
    {
     "data": {
      "text/plain": [
       "1.5"
      ]
     },
     "execution_count": 10,
     "metadata": {},
     "output_type": "execute_result"
    }
   ],
   "source": [
    "6/4"
   ]
  },
  {
   "cell_type": "markdown",
   "id": "2e3d9d5f",
   "metadata": {},
   "source": [
    "Observamos que el resultado cambió en estos casos. Esto se debe a que los operadores aritméticos `-` y `/` toman al número del lado izquierdo y le aplican la operación utilizando el número del lado derecho. Para referirnos a este hecho, decimos que estos operadores son _asociativos a derecha_ (nótese que **esto es distinto a la noción de asociatividad de operaciones binarias** como suma y multiplicación en matemáticas). Análogamente, los operadores que toman el valor a su derecha y le aplican alguna operación utilizando el valor de la izquierda se conocen como _operadores asociativos a izquierda_."
   ]
  },
  {
   "cell_type": "markdown",
   "id": "1fffc345",
   "metadata": {},
   "source": [
    "Ahora, evaluemos una expresión con muchos operadores aritméticos, pero ningún paréntesis para indicar cuáles operaciones queremos que se realicen primero. ¿Puedes explicar qué está sucediendo?"
   ]
  },
  {
   "cell_type": "code",
   "execution_count": 4,
   "id": "e24b2ad2",
   "metadata": {},
   "outputs": [
    {
     "data": {
      "text/plain": [
       "-41"
      ]
     },
     "execution_count": 4,
     "metadata": {},
     "output_type": "execute_result"
    }
   ],
   "source": [
    "4 - 5 * 3 ^ 2"
   ]
  },
  {
   "cell_type": "markdown",
   "id": "b394fb96",
   "metadata": {},
   "source": [
    "Observemos que el resultado que obtenemos es consistente, es decir, no cambia si corremos la celda más veces. Para poder evaluar expresiones como ésta (con muchos operadores y sin paréntesis para indicar el orden de las operaciones) de forma consistente, Julia debe tener un "
   ]
  },
  {
   "cell_type": "markdown",
   "id": "6e718aa8",
   "metadata": {},
   "source": [
    "## Tipos de datos"
   ]
  },
  {
   "cell_type": "code",
   "execution_count": 1,
   "id": "3fe3e17e",
   "metadata": {},
   "outputs": [
    {
     "data": {
      "text/plain": [
       "7"
      ]
     },
     "execution_count": 1,
     "metadata": {},
     "output_type": "execute_result"
    }
   ],
   "source": [
    "2 + 5"
   ]
  },
  {
   "cell_type": "code",
   "execution_count": 5,
   "id": "a64b91e8",
   "metadata": {},
   "outputs": [
    {
     "data": {
      "text/plain": [
       "1-element Vector{Int64}:\n",
       " 7"
      ]
     },
     "execution_count": 5,
     "metadata": {},
     "output_type": "execute_result"
    }
   ],
   "source": [
    "[2] + [5]"
   ]
  },
  {
   "cell_type": "code",
   "execution_count": 3,
   "id": "6044f417",
   "metadata": {},
   "outputs": [
    {
     "data": {
      "text/plain": [
       "2-element Vector{Int64}:\n",
       " 7\n",
       " 7"
      ]
     },
     "execution_count": 3,
     "metadata": {},
     "output_type": "execute_result"
    }
   ],
   "source": [
    "[2,2] + [5,5]"
   ]
  },
  {
   "cell_type": "code",
   "execution_count": 7,
   "id": "0e6fbfc6",
   "metadata": {},
   "outputs": [
    {
     "data": {
      "text/plain": [
       "7.0"
      ]
     },
     "execution_count": 7,
     "metadata": {},
     "output_type": "execute_result"
    }
   ],
   "source": [
    "2.0 + 5"
   ]
  },
  {
   "cell_type": "markdown",
   "id": "7b52e5d8",
   "metadata": {},
   "source": [
    "## Arreglos"
   ]
  },
  {
   "cell_type": "markdown",
   "id": "95a58cad",
   "metadata": {},
   "source": [
    "## Variables y constantes"
   ]
  },
  {
   "cell_type": "markdown",
   "id": "14cc7ae1",
   "metadata": {},
   "source": [
    "## Funciones, manejo de memoria y recursividad"
   ]
  }
 ],
 "metadata": {
  "kernelspec": {
   "display_name": "Julia 1.7.1",
   "language": "julia",
   "name": "julia-1.7"
  },
  "language_info": {
   "file_extension": ".jl",
   "mimetype": "application/julia",
   "name": "julia",
   "version": "1.7.1"
  }
 },
 "nbformat": 4,
 "nbformat_minor": 5
}
