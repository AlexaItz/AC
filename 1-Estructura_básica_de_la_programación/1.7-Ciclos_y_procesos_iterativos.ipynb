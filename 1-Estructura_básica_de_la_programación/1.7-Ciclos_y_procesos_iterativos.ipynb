{
 "cells": [
  {
   "cell_type": "markdown",
   "id": "4f3bb035",
   "metadata": {},
   "source": [
    "# Ciclos\n",
    "\n",
    "Otra importante aplicación de los datos de tipo Booleano es en la creación de declaraciones cíclicas."
   ]
  },
  {
   "cell_type": "markdown",
   "id": "3fd57620",
   "metadata": {},
   "source": [
    "## Ciclos `for` (_for loops_)"
   ]
  },
  {
   "cell_type": "markdown",
   "id": "6d45d4a5",
   "metadata": {},
   "source": [
    "## Ciclos `while` (_while loops_)"
   ]
  },
  {
   "cell_type": "markdown",
   "id": "32b41520",
   "metadata": {},
   "source": [
    "## Ciclos recursivos"
   ]
  },
  {
   "cell_type": "markdown",
   "id": "aff598bb",
   "metadata": {},
   "source": [
    "## Visualización de ciclos con... ¡tortugas!\n",
    "\n",
    "Imaginemos que tenemos una tortuga en el origen de un plano cartesiano que tiene una pluma pegada, la cual puede poner sobre el papel o bien levantar, y que esta tortuga entiende sólo cuatro instrucciones:\n",
    "* camina hacia adelante un número $d$ de unidades de distancia,\n",
    "* gira $\\theta$ grados,\n",
    "* levanta la pluma y\n",
    "* baja la pluma.\n",
    "\n",
    "Si le pedimos que camine hacia adelante mientras tiene la pluma abajo (i.e. sobre el papel), dibujará una línea recta, mientras que, si le pedimos que camine cuando tiene la pluma arriba (i.e. levantada), no dibujará nada. La tortuga tampoco dibujará nada si le pedimos que gire, pues asumiremos que, aún con la pluma abajo, la marca es tan pequeña que no se alcanza a ver. \n",
    "\n",
    "Observa que, con las cuatro instrucciones anteriores (y la cooperación de la tortuga, por supuesto) pordemos dibujar **cualquier figura bidimensional compuesta únicamente por líneas rectas**. En serio, **piénsalo**."
   ]
  },
  {
   "cell_type": "markdown",
   "id": "1688c677",
   "metadata": {},
   "source": [
    "### Dibujando líneas con tortugas en Julia\n",
    "\n",
    "Afortunadamente, existe un programa que hace exactamente lo que acabamos de describir. Está incluido dentro de la biblioteca [`ThinkJulia`](https://github.com/BenLauwens/ThinkJulia.jl), creado como recurso didáctico del libro \"Think Julia: How to Think Like a Computer Scientist\" de Ben Lauwens (puedes encontrar la versión en línea del libro [aquí](https://benlauwens.github.io/ThinkJulia.jl/latest/book.html#_turtles)). Instalemos e importemos esta biblioteca:"
   ]
  },
  {
   "cell_type": "code",
   "execution_count": null,
   "id": "14319d11",
   "metadata": {},
   "outputs": [],
   "source": [
    "using Pkg                                                  # Importamos la biblioteca \"Pkg\" para poder instalar \"paquetes\" (blbiotecas);\n",
    "Pkg.add(url=\"https://github.com/BenLauwens/ThinkJulia.jl\") # luego, instalamos la biblioteca \"ThinkJulia\"."
   ]
  },
  {
   "cell_type": "code",
   "execution_count": null,
   "id": "df201858",
   "metadata": {},
   "outputs": [],
   "source": [
    "using ThinkJulia                                           # Importamos la biblioteca \"ThinkJulia\".\n",
    "\n",
    "#= NOTA: Después de instalar la biblioteca \"ThinkJulia\" localmente en tu computadora, podrás importarla sin tener que\n",
    "volverla a instalar; por ende, recomendamos comentar la celda de código anterior después de la instalación inicial,\n",
    "pues ya no será necesaria =#"
   ]
  },
  {
   "cell_type": "markdown",
   "id": "50a51f41",
   "metadata": {},
   "source": [
    "En la siguiente celda, usamos la función `Turtle` para inicializar nuestra tortuga en el origen del plano cartesiano y luego mostramos un ejemplo con las cuatro instrucciones que podemos darle. Como existe un caracter [`Unicode`](https://es.wikipedia.org/wiki/Unicode) de tortuga que podemos usar para nombrar variables con Julia, lo usaremos para definir a nuestra tortuga, por pura diversión; este caracter se obtiene escribiendo `\\:turtle:` en una celda de código de Julia y auto completando con la tecla `TAB`.\n",
    "\n",
    "Corre la siguiente celda, experimenta cambiando el valor de distancia `d` y comentando alguna o varias líneas del bloque `begin`, y observa cómo cambia el dibujo que haces con la tortuga. ¿Hacia dónde mira la tortuga al inicio? ¿La convención de grados que sigue la tortuga es igual a la convención matemática usual en el plano cartesiano?"
   ]
  },
  {
   "cell_type": "code",
   "execution_count": null,
   "id": "ec328876",
   "metadata": {},
   "outputs": [],
   "source": [
    "🐢 = Turtle() #Inicializamos nuestra tortuga en el origen del plano.\n",
    "\n",
    "d = 100\n",
    "\n",
    "@svg begin           # '@svg' toma las instrucciones dentro del bloque `begin` y genera un svg con ellas, que Jupyter nos muestra\n",
    "    forward(🐢,d)\n",
    "    penup(🐢)\n",
    "    forward(🐢,d)\n",
    "    pendown(🐢)\n",
    "    forward(🐢,d)\n",
    "    turn(🐢, 90)\n",
    "    forward(🐢,d)\n",
    "end"
   ]
  },
  {
   "cell_type": "markdown",
   "id": "16198369",
   "metadata": {},
   "source": [
    "**Ejercicio** Dibuja una línea punteada con 5 líneas negras de 10 unidades de distancia cada una con 10 unidades de distancia entre ellas. (Sugerencia: copia el código de la celda anterior y modifícalo a tu conveniencia.)"
   ]
  },
  {
   "cell_type": "code",
   "execution_count": null,
   "id": "ac77acc6",
   "metadata": {},
   "outputs": [],
   "source": []
  },
  {
   "cell_type": "markdown",
   "id": "0740193f",
   "metadata": {},
   "source": [
    "**Ejercicio** Si no utilizaste un ciclo para resolver el ejercicio anterior, reescribe tu programa utilizando un ciclo `for` o `while`."
   ]
  },
  {
   "cell_type": "code",
   "execution_count": null,
   "id": "364b1176",
   "metadata": {},
   "outputs": [],
   "source": []
  },
  {
   "cell_type": "markdown",
   "id": "e5762d8e",
   "metadata": {},
   "source": [
    "**Ejercicio** Haz un programa que tome tres parámetros `n`, `d1` y `d2` (los cuales puedes definir como variables en la misma celda) y dibuje `n` líneas de longitud `d1` con una distancia de separación `d2` entre ellas utilizando un ciclo `for` o `while`."
   ]
  },
  {
   "cell_type": "code",
   "execution_count": null,
   "id": "596497c3",
   "metadata": {},
   "outputs": [],
   "source": []
  },
  {
   "cell_type": "markdown",
   "id": "b2462d2d",
   "metadata": {},
   "source": [
    "**Ejercicio** Haz un programa que dibuje un triángulo equilátero de lado `d`."
   ]
  },
  {
   "cell_type": "code",
   "execution_count": null,
   "id": "297ea71a",
   "metadata": {},
   "outputs": [],
   "source": []
  },
  {
   "cell_type": "markdown",
   "id": "f852f46e",
   "metadata": {},
   "source": [
    "**Ejercicio** Generaliza el programa anterior a uno que tome dos parámetros `n` y `d` y dibuje un polígono regular de `n` lados de longitud `d` utilizando un ciclo `for` o `while`."
   ]
  },
  {
   "cell_type": "code",
   "execution_count": null,
   "id": "ca6fe61a",
   "metadata": {},
   "outputs": [],
   "source": []
  },
  {
   "cell_type": "markdown",
   "id": "40948d24",
   "metadata": {},
   "source": [
    "### Tortugas y fractales\n",
    "\n",
    "Podemos combinar ciclos `for`/`while` con ciclos recursivos para dibujar fractales (más precisamente, una aproximación de ellos) pero al menos una linda aproximación de ellos) con ayuda de nuestra amiga tortuga."
   ]
  },
  {
   "cell_type": "code",
   "execution_count": null,
   "id": "a179d6af",
   "metadata": {},
   "outputs": [],
   "source": [
    "function estrella(tort,dist)\n",
    "    if dist <= 5\n",
    "        return\n",
    "    else\n",
    "        for i in 1:5\n",
    "            forward(tort,dist)\n",
    "            estrella(tort,dist/3)\n",
    "            turn(tort,216)\n",
    "        end\n",
    "    end\n",
    "end\n",
    "\n",
    "🐢 = Turtle() #Inicializamos nuestra tortuga en el origen del plano.\n",
    "\n",
    "d = 200\n",
    "\n",
    "@svg estrella(🐢,d) "
   ]
  },
  {
   "cell_type": "markdown",
   "id": "8e808b43",
   "metadata": {},
   "source": [
    "### Dato curioso\n",
    "\n",
    "El _software_ de la biblioteca `ThinkJulia` que acabamos de utilizar está basado en la biblioteca [`turtle`](https://docs.python.org/3/library/turtle.html) de Python la cual, a su vez, está basada en el lenguaje de programación educativo [`Logo`](https://en.wikipedia.org/wiki/Logo_(programming_language)) creado en 1967."
   ]
  }
 ],
 "metadata": {
  "kernelspec": {
   "display_name": "Julia 1.7.1",
   "language": "julia",
   "name": "julia-1.7"
  },
  "language_info": {
   "file_extension": ".jl",
   "mimetype": "application/julia",
   "name": "julia",
   "version": "1.7.2"
  }
 },
 "nbformat": 4,
 "nbformat_minor": 5
}
