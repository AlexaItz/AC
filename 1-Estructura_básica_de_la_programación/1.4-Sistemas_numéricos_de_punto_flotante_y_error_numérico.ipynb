{
 "cells": [
  {
   "cell_type": "markdown",
   "id": "e2bf4a73",
   "metadata": {},
   "source": [
    "# Sistemas numéricos de punto flotante y error numérico\n",
    "\n",
    "## Sistemas numéricos\n",
    "\n",
    "En matemáticas, tenemos varias formas de representar a un número. Por ejemplo, las expresiones\n",
    "\n",
    "$$ \\frac{17}{17}, \\quad 1.0\\times 10^0, \\quad 0.\\overline{999}, \\quad \\lim_{x\\to -1} x^2, \\quad \\sum_{n=1}^\\infty \\frac{1}{(n(n+1))}, \\quad -e^{i\\pi}, \\quad \\text{etcétera}$$\n",
    "\n",
    "representan al número 1. Sin embargo, al momento de hacer cálculos numéricos resulta óptimo fijar una forma de representar a todos los números con los que queremos trabajar, lo que se conoce como un _sistema numérico_, y procurar que éste sea ventajoso para el tipo de cálculos que queremos hacer."
   ]
  },
  {
   "cell_type": "markdown",
   "id": "bb494b8c",
   "metadata": {},
   "source": [
    "## Sistemas numéricos de punto flotante\n",
    "\n",
    "En muchas ramas científicas es necesario poder manipular números reales de forma eficiente.\n",
    "\n",
    "_redondeo_\n",
    "\n",
    "### `Float32` y `Float64`\n",
    "\n",
    "En Julia, los principales tipos numéricos primitivos para números de punto flotante son `Float32` y `Float64`, los cuales utilizan 32 y 64 bits, respectivamente, para representar a los números literales. De forma predeterminada, Julia considera a los números literales escritos con punto decimal o notación científica (usando `e`) como flotantes de 64 bits:\n",
    "\n"
   ]
  },
  {
   "cell_type": "code",
   "execution_count": null,
   "id": "6a0efe17",
   "metadata": {},
   "outputs": [],
   "source": [
    "typeof(1.0)"
   ]
  },
  {
   "cell_type": "code",
   "execution_count": null,
   "id": "30d3468f",
   "metadata": {},
   "outputs": [],
   "source": [
    "typeof(2.99792458e8) # Velocidad de la luz en m/s"
   ]
  },
  {
   "cell_type": "markdown",
   "id": "a4384499",
   "metadata": {},
   "source": [
    "mientras que, si escribimos un número literal en notación científica usando `f` en vez de `e`, Julia lo considera como flotante de 32 bits:"
   ]
  },
  {
   "cell_type": "code",
   "execution_count": null,
   "id": "6767a1c7",
   "metadata": {},
   "outputs": [],
   "source": [
    "typeof(2.99702458f8)"
   ]
  },
  {
   "cell_type": "markdown",
   "id": "98c8da61",
   "metadata": {},
   "source": [
    "Para convertir entre estos tipos numéricos flotantes, podemos llamar a `Float32` y `Float64` como funciones."
   ]
  },
  {
   "cell_type": "code",
   "execution_count": null,
   "id": "03c2ba79",
   "metadata": {},
   "outputs": [],
   "source": [
    "typeof( Float32(2.99792458e8) ) # Cambia de Float64 a Float32"
   ]
  },
  {
   "cell_type": "code",
   "execution_count": null,
   "id": "9de49936",
   "metadata": {},
   "outputs": [],
   "source": [
    "typeof( Float64(2.99792458f8) ) # Cambia de Float32 a Float64"
   ]
  },
  {
   "cell_type": "markdown",
   "id": "adc733bf",
   "metadata": {},
   "source": [
    "Por completez, mencionamos que en Julia también existe un tipo numérico primitivo para números de punto flotante de 16 bits llamado`Float16`, y que podemos llamar a `Float16` como función para convertir a números de de este tipo; sin embargo, no lo utilizaremos en este curso.\n",
    "\n",
    "Para una lista completa de los tipos numéricos primitivos en Julia, puedes consultar la [documentación](https://docs.julialang.org/en/v1/manual/integers-and-floating-point-numbers/#Integers-and-Floating-Point-Numbers)."
   ]
  },
  {
   "cell_type": "markdown",
   "id": "4fed2d2a",
   "metadata": {},
   "source": [
    "## Épsilon de máquina\n",
    "\n",
    "Como vimos en la sección pasada, la representación de una gran cantidad de números (por ejemplo, los recursivos y los trascendentales) en un sistema de punto flotante conlleva un proceso de redondeo. Esto implica la existencia de un error relativo en el redondeo, el cual se calcula como\n",
    "\n",
    "$$\\text{error relativo} = \\frac{\\text{error absoluto}}{\\text{valor redondeado,}}$$\n",
    "\n",
    "donde $\\text{error absoluto}$ es la diferencia entre el valor que se quería representar y el $\\text{valor}$ (al cual fue) $\\text{redondeado}$.\n",
    "\n",
    "A través de argumentos heurísticos, es posible ver que los errores relativos más grandes en un sistema de punto flotante ocurren entre los números _mayores_ que uno _que son redondeados a uno_, y que estos aumentan a medida que aumenta el número. Por lo tanto, se considera como **cota superior del error relativo del sistema de punto flotante** al _mayor número que el sistema redondea a uno_, y se le llama **épsilon de máquina**."
   ]
  },
  {
   "cell_type": "markdown",
   "id": "17ed7758",
   "metadata": {},
   "source": [
    "**Ejercicio** Implementa un código que aproxime la épsilon de máquina para  `Float32` y `Float64` (Sugerencia: Utiliza un ciclo _while_)."
   ]
  },
  {
   "cell_type": "code",
   "execution_count": null,
   "id": "6f1af5b9",
   "metadata": {},
   "outputs": [],
   "source": [
    "# Tu código comentado va aquí :D"
   ]
  },
  {
   "cell_type": "markdown",
   "id": "311fb41b",
   "metadata": {},
   "source": [
    "### `eps`\n",
    "\n",
    "En Julia, la función `eps` nos devuelve la épsilon de máquina de un tipo numérico de punto flotante:"
   ]
  },
  {
   "cell_type": "code",
   "execution_count": null,
   "id": "5d41dda8",
   "metadata": {},
   "outputs": [],
   "source": [
    "eps(Float32)"
   ]
  },
  {
   "cell_type": "code",
   "execution_count": null,
   "id": "9013acf2",
   "metadata": {},
   "outputs": [],
   "source": [
    "eps(Float64)"
   ]
  },
  {
   "cell_type": "markdown",
   "id": "af435677",
   "metadata": {},
   "source": [
    "Si como entrada le damos un número de punto flotante de cierto tipo, `eps` nos devuelve el siguiente número de punto flotante del mismo tipo que puede ser representado:"
   ]
  },
  {
   "cell_type": "code",
   "execution_count": null,
   "id": "13a9393c",
   "metadata": {},
   "outputs": [],
   "source": [
    "eps(1.0) # Observen que toma a 1.0 como de tipo Float64"
   ]
  },
  {
   "cell_type": "markdown",
   "id": "aaca6e8a",
   "metadata": {},
   "source": [
    "## Propagación de error\n",
    "\n",
    "Como cualquier persona que esté familiarizada con física experimental sabe, ninguna medición física está exenta de error y, al hacer cálculos con datos tomados a partir de mediciones físicas, es importante considerar cómo es que los errores de las mediciones se propagan al cálculo final; suponer que al hacer operaciones con números inciertos podemos obtener un resultado exacto sería **absurdo**. Una fórmula general para calcular el error absoluto de una función de varias variables $f(x_1,...,x_n)$ propagado por las variables $x_1,...,x_n$ con error absoluto $\\Delta x_1,...,\\Delta x_n$ es[3]\n",
    "\n",
    "$$\\Delta f = \\sqrt{ \\sum_{i=1}^n \\bigg(\\frac{\\partial f}{\\partial x_i} \\Delta x_i\\bigg)^2 },$$\n",
    "\n",
    "y está acotado superiormente por\n",
    "\n",
    "$$\\Delta f \\leq \\sum_{i=1}^n \\bigg| \\frac{\\partial f}{\\partial x_i} \\bigg| \\Delta x_i.$$\n",
    "\n",
    "Dado que las computadoras no escapan el mundo físico (aunque a veces parezca que nos ayudan a hacerlo) es crucial que, siempre que hagamos cálculos numéricos **de alta precisión**, tomemos en cuenta las **limitaciones de los sistemas numéricos** implementados en las computadoras que utilicemos."
   ]
  },
  {
   "cell_type": "markdown",
   "id": "008b2441",
   "metadata": {},
   "source": [
    "## Resumen\n",
    "\n",
    "Un _sistema numérico_ es una forma de representar números, necesario para hacer cálculos numéricos. Los sistemas numéricos más comunmente utilizados para cálculos en computadoras son los _sistemas de punto flotante_, pues tienen las bondades de ser fáciles de implementar (sobre todo los de base 2), usar, y estandarizar, además de ser rápidos, versátiles (útiles para trabajar tanto con números muy grandes como muy pequeños), y precisos. Sin embargo, dado que la capacidad de memoria de las computadoras es limitada, ocurren errores de redondeo al representar a algunos números en este tipo de sistemas. Por lo tanto, al hacer cálculos de alta precisión, es importante tener en cuenta la _épsilon de máquina_ (cota superior del error relativo en un sistema de punto flotante) y la _propagación de errores_ en nuestro cálculos, así como otras limitaciones de nuestros instrumentos de cálculo (nuestras computadoras)."
   ]
  },
  {
   "cell_type": "markdown",
   "id": "dfb7a66b",
   "metadata": {},
   "source": [
    "## Dato curioso\n",
    "\n",
    "Julia también implementa soporte para [aritmética de precisión arbitraria](https://docs.julialang.org/en/v1/manual/integers-and-floating-point-numbers/#Arbitrary-Precision-Arithmetic), aunque estos cálculos son relativamente más lentos.\n",
    "\n",
    "## Bibliografía\n",
    "\n",
    "[1] Muller et al, _Handbook of Floating-Point Arithmetic_ (2018). \n",
    "\n",
    "[2]\n",
    "Baird, _Experimentación: Una introducción a la teoría de mediciones y al diseño experimental_ (1991).\n",
    "\n",
    "[3] Taylor, _An Introduction to Error Analysis: The Study of Uncertanties in Physical Measurements_ (1982).\n",
    "\n",
    "## Recursos complementarios\n",
    "* Video [_Floating Point Numbers_](https://www.youtube.com/watch?v=PZRI1IfStY0) del canal de YouTube Computerphile.\n",
    "* [Documentación de números enteros y de punto flotante en Julia](https://docs.julialang.org/en/v1/manual/integers-and-floating-point-numbers/).\n",
    "* Sección 1.2 \"Round-off Errors and Computer Arithmetic\" de Burden et al, _Numerical Analysis_ (2019)."
   ]
  }
 ],
 "metadata": {
  "kernelspec": {
   "display_name": "Julia 1.7.1",
   "language": "julia",
   "name": "julia-1.7"
  },
  "language_info": {
   "file_extension": ".jl",
   "mimetype": "application/julia",
   "name": "julia",
   "version": "1.7.1"
  }
 },
 "nbformat": 4,
 "nbformat_minor": 5
}
