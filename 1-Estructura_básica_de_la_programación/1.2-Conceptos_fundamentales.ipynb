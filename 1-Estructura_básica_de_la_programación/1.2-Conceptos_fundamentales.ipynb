{
 "cells": [
  {
   "cell_type": "markdown",
   "id": "6713df60",
   "metadata": {},
   "source": [
    "# Conceptos fundamentales\n",
    "\n",
    "En este _notebook_, aprenderemos sobre algunos conceptos fundamentales de la programación. Estos conceptos son bastante generales y se encuentran presentes en la mayoría de los lenguajes de programación; sin embargo, nos enfocaremos en entender _a grosso modo_ cómo es que estos conceptos están implementados en Julia."
   ]
  },
  {
   "cell_type": "markdown",
   "id": "97f5a887",
   "metadata": {},
   "source": [
    "## Operaciones aritméticas\n",
    "En Julia, los símbolos `+`, `-`, `*`, `/` y `^` se utilizan para denotar las operaciones de suma, resta, multiplicación, división y exponenciación, respectivamente, de manera similar a como lo hacemos en matemáticas."
   ]
  },
  {
   "cell_type": "code",
   "execution_count": null,
   "id": "8f908cf8",
   "metadata": {},
   "outputs": [],
   "source": [
    "4+2"
   ]
  },
  {
   "cell_type": "markdown",
   "id": "1f1033f6",
   "metadata": {},
   "source": [
    "Generalmente, a los símbolos que realizan alguna operación en Julia se conocen como _operadores_; en particular, `+`, `-`, `*`, `/` y `^` son _operadores aritméticos_.\n",
    "\n",
    "**Ejercicio** Obten cada uno de los valores siguientes con **una sola modificación** de la expresión `4+2`.\n",
    "\n",
    "* 2\n",
    "* 4\n",
    "* 8\n",
    "* 16\n",
    "\n",
    "Asegúrate de usar cada operación aritmética al menos una vez. ¿De cuántas maneras diferentes podrás hacerlo para cada número?"
   ]
  },
  {
   "cell_type": "markdown",
   "id": "1fffc345",
   "metadata": {},
   "source": [
    "## Precedencia y asociatividad\n",
    "\n",
    "\n",
    "Evaluemos una expresión con muchos operadores aritméticos, pero ningún paréntesis para indicar cuáles operaciones queremos que se realicen primero. ¿Puedes explicar qué está sucediendo?"
   ]
  },
  {
   "cell_type": "code",
   "execution_count": null,
   "id": "e24b2ad2",
   "metadata": {},
   "outputs": [],
   "source": [
    "4 - 5 * 3 ^ 2"
   ]
  },
  {
   "cell_type": "markdown",
   "id": "b394fb96",
   "metadata": {},
   "source": [
    "Observemos que el resultado que obtenemos es consistente, es decir, no cambia si corremos la celda más veces. Para poder evaluar expresiones como ésta (con muchos operadores y sin paréntesis para indicar el orden de las operaciones) de forma consistente, Julia debe tener un _orden preestablecido_ en el cual ejecutar a los operadores. En el caso de los operadores aritméticos, el orden es el mismo que aprendemos en la educación básica:\n",
    "* primero, elevas los exponentes;\n",
    "* luego, realizas las multiplicaciones/divisiones;\n",
    "* finalmente, haces las sumas/restas;\n",
    "\n",
    "para cada uno de estos \"niveles\", las operaciones se ejecutan de izquierda derecha, como leemos. Para describir esto en términos de operadores de Julia, diríamos que:\n",
    "* el operador `^` tiene mayor _precedencia_ que los operadores `*`, `/`, `+` y `-`;\n",
    "* los operadores `*` y `/` tienen la misma _precedencia_, la cual es menor a la de `^` pero mayor a las de `+` y `-`;\n",
    "* los operadores `+` y `-` tienen la misma _precedencia_, la cual es menor a la de `^`, y a la de `*` y `/`.\n",
    "\n",
    "Para revisar la **precedencia** de un operador en Julia, podemos utilizar la función `Base.operator_precedence`, con la sintáxis\n",
    "\n",
    "$\\text{Base}\\color{magenta}{\\text{.}}\\color{green}{\\text{operator_precedence}}\\text{(}\\color{green}{\\text{:op}}\\text{)}$\n",
    "\n",
    "en donde $\\text{op}$ es el operador en cuestión, como en el siguiente ejemplo:"
   ]
  },
  {
   "cell_type": "code",
   "execution_count": null,
   "id": "9951f6f3",
   "metadata": {},
   "outputs": [],
   "source": [
    "Base.operator_precedence(:+)"
   ]
  },
  {
   "cell_type": "markdown",
   "id": "0afd29f5",
   "metadata": {},
   "source": [
    "**Ejercicio** Verifica las relaciones entre las precedencias de los operadores aritméticos discutidas en el párrafo anterior."
   ]
  },
  {
   "cell_type": "code",
   "execution_count": null,
   "id": "15722353",
   "metadata": {},
   "outputs": [],
   "source": []
  },
  {
   "cell_type": "markdown",
   "id": "2e3d9d5f",
   "metadata": {},
   "source": [
    "Para revisar la **asociatividad** de un operador en Julia, podemos utilizar la función `Base.operator_associativity`, con la sintáxis\n",
    "\n",
    "$\\text{Base}\\color{magenta}{\\text{.}}\\color{green}{\\text{operator_associativity}}\\text{(}\\color{green}{\\text{:op}}\\text{)}$\n",
    "\n",
    "en donde $\\text{op}$ es el operador en cuestión, como en el siguiente ejemplo:"
   ]
  },
  {
   "cell_type": "code",
   "execution_count": null,
   "id": "7a5f1be0",
   "metadata": {
    "scrolled": true
   },
   "outputs": [],
   "source": [
    "Base.operator_associativity(:-)"
   ]
  },
  {
   "cell_type": "markdown",
   "id": "6e718aa8",
   "metadata": {},
   "source": [
    "## Tipos de datos\n",
    "\n",
    "### numéricos\n",
    "\n",
    "### de texto"
   ]
  },
  {
   "cell_type": "code",
   "execution_count": null,
   "id": "3fe3e17e",
   "metadata": {},
   "outputs": [],
   "source": [
    "2 + 5"
   ]
  },
  {
   "cell_type": "code",
   "execution_count": null,
   "id": "a64b91e8",
   "metadata": {},
   "outputs": [],
   "source": [
    "[2] + [5]"
   ]
  },
  {
   "cell_type": "code",
   "execution_count": null,
   "id": "6044f417",
   "metadata": {},
   "outputs": [],
   "source": [
    "[2,2] + [5,5]"
   ]
  },
  {
   "cell_type": "code",
   "execution_count": null,
   "id": "0e6fbfc6",
   "metadata": {},
   "outputs": [],
   "source": [
    "2.0 + 5"
   ]
  },
  {
   "cell_type": "markdown",
   "id": "7b52e5d8",
   "metadata": {},
   "source": [
    "## Arreglos"
   ]
  },
  {
   "cell_type": "markdown",
   "id": "95a58cad",
   "metadata": {},
   "source": [
    "## Variables y constantes"
   ]
  },
  {
   "cell_type": "code",
   "execution_count": null,
   "id": "50709fd6",
   "metadata": {},
   "outputs": [],
   "source": [
    "v = 1"
   ]
  },
  {
   "cell_type": "code",
   "execution_count": null,
   "id": "a0f099ec",
   "metadata": {},
   "outputs": [],
   "source": [
    "v += 1"
   ]
  },
  {
   "cell_type": "markdown",
   "id": "14cc7ae1",
   "metadata": {},
   "source": [
    "## Funciones, manejo de memoria y recursividad"
   ]
  }
 ],
 "metadata": {
  "kernelspec": {
   "display_name": "Julia 1.7.1",
   "language": "julia",
   "name": "julia-1.7"
  },
  "language_info": {
   "file_extension": ".jl",
   "mimetype": "application/julia",
   "name": "julia",
   "version": "1.7.1"
  }
 },
 "nbformat": 4,
 "nbformat_minor": 5
}
